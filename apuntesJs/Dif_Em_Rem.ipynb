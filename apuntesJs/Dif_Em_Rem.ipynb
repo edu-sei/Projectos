{
 "cells": [
  {
   "cell_type": "markdown",
   "metadata": {},
   "source": [
    "<h3>Diferencias entre EM y REM</h3>\n",
    "<code>em</code> y <code>rem</code> son unidades CSS pensadas para trabajar con tipografía, aunque también se utilizan para especificar dimensiones en otros elementos HTML.\n",
    "\n",
    "Tanto <code>em</code> como <code>rem</code> son considerados unidades relativas, pero ¿relativo a que? o ¿respecto a que?... la respuesta es que son relativas al font-size.\n",
    "\n",
    "<code>em</code> y <code>rem</code> se computan o se traducen a valores de pixel. Por ejemplo si colocas 1em o 1rem como valor a un elemento HTML el navegador va a computar o convertir ese valor en un valor de pixel (px). Esto lo podemos comprobar con el siguiente ejemplo:\n",
    "\n",
    "🔎 Si inspeccionas el elemento <code>'h1'</code> y lo analizas en la DevTools (herramienta de desarrollo) de tu navegador y haces click en la pestaña de \"Styles\" (Estilos), el elemento <code>h1</code> tiene un <code>font-size: 2em</code>;, esto es porque por defecto el navegador asigna a los elementos <code>h1</code> un tamaño de fuente de 2em. Y si revisamos la pestaña COMPUTED veremos que 2em es equivalente a 32px.\n",
    "\n",
    "Los navegadores tienen un estándar en el que el tamaño base de la fuente o font-size que asignan al texto es de 16px , excluyendo por supuesto a los encabezados <code>h1</code> a <code>h6</code> y el elemento <code>small</code> ya que el navegador les asigna otro tamaño de fuente.\n",
    "\n",
    "El tamaño de fuente base que son <b>16px</b> puede ser cambiado (en las preferencias del navegador) por el usuario a cualquier valor entre 9px a 72px."
   ]
  },
  {
   "cell_type": "markdown",
   "metadata": {},
   "source": [
    "<h3>📏REM</h3>\n",
    "La unidad rem, abreviatura de root em, se basa siempre en el valor del font-size del elemento raíz, que es el elemento <code>html</code> Si el elemento <code>html</code> no tiene un font-size especificado, se utiliza el valor por defecto del navegador que es 16px.\n",
    "<br>\n",
    "<h3>📏EM</h3>\n",
    "La unidad em permite establecer el tamaño de fuente o font-size de un elemento en base al font-size de su elemento padre mas cercano.\n",
    "Por lo general se relaciona EM al tamaño de fuente establecido en la etiqueta <code>body</code>"
   ]
  }
 ],
 "metadata": {
  "language_info": {
   "name": "python"
  }
 },
 "nbformat": 4,
 "nbformat_minor": 2
}
