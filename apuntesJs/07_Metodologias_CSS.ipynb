{
 "cells": [
  {
   "cell_type": "markdown",
   "metadata": {},
   "source": [
    " <h2>METODOLOGÍA CSS: BEM, SUIT CSS y CUBE CSS</h2>\n",
    "<h3>CSS - Convenciones de nombres</h3>\n",
    "Las convenciones de nombres nos ayudan a nombrar de forma consistente nuestras clases y a organizar nuestro código de manera coherente. BEM, SUIT CSS y CUBE CSS son algunas de las convenciones más populares que podemos utilizar para lograr esto.\n",
    "<hr>\n",
    "<h3 style=\"color: yellow\"><b>BEM CSS</b> | Web y Apps</h3>\n",
    "Es la metodología más ampliamente utilizada de todas. Independientemente de la metodología CSS que utilices (OOCSS, SMACSS o ATOMIC), BEM te será de gran utilidad para organizar tu código de una manera que sea fácil de entender a primera vista.\n",
    "\n",
    "Las reglas de BEM son simples y se resumen en tres conceptos principales:\n",
    "\n",
    "1. Bloque (Block)\n",
    "   Sintaxis: <component-name>\n",
    "\n",
    "El bloque encapsula una entidad independiente que es significativa por sí misma. Aunque los bloques se pueden anidar o interactuar, cada uno es independiente y tiene sentido por sí solo.\n",
    "\n",
    "Por ejemplo, la clase .card es un bloque. Una .card recibe este nombre porque es un elemento independiente y reutilizable (por lo tanto, se utilizan clases en lugar de IDs). Puedes anidarla o listarla, pero sigue siendo independiente y reutilizable.\n"
   ]
  },
  {
   "cell_type": "code",
   "execution_count": null,
   "metadata": {
    "vscode": {
     "languageId": "html"
    }
   },
   "outputs": [],
   "source": [
    "<div class=\"card\">...</div>\n",
    "\n",
    "<component-name></component-name>\n",
    ".card { background-color: #eee; }\n"
   ]
  },
  {
   "cell_type": "markdown",
   "metadata": {},
   "source": [
    "2. Elemento (Element)\n",
    "   Sintaxis: <component\\_\\_element-name>\n",
    "\n",
    "Los elementos son parte de un bloque y, por lo tanto, dependen de este. Un ejemplo concreto podría ser un título para el bloque .card. La clase CSS se forma combinando el nombre del bloque con dos guiones bajos y el nombre del elemento:\n"
   ]
  },
  {
   "cell_type": "code",
   "execution_count": null,
   "metadata": {
    "vscode": {
     "languageId": "html"
    }
   },
   "outputs": [],
   "source": [
    "<div class=\"card\">\n",
    "  <div class=\"card__title --bg-red is_active\"></div>\n",
    "</div>\n",
    "\n",
    "<component\n",
    "  >__<element-name>\n",
    "    <style>\n",
    "      .card__title {\n",
    "        color: #111;\n",
    "      }\n",
    "    </style>\n",
    "  </element-name></component\n",
    ">\n"
   ]
  },
  {
   "cell_type": "code",
   "execution_count": null,
   "metadata": {
    "vscode": {
     "languageId": "html"
    }
   },
   "outputs": [],
   "source": [
    "Cabe señalar que, debido a que los elementos ya indican en su nombre a qué\n",
    "bloque pertenecen, no es necesario indicar su dependencia en el código. MODO\n",
    "INCORRECTO\n",
    "<style>\n",
    "  .card .card__title {\n",
    "    color: #111;\n",
    "  }\n",
    "</style>\n",
    "\n",
    "MODO CORRECTO\n",
    "<style>\n",
    "  .card__item-resto {\n",
    "    color: #111;\n",
    "  }\n",
    "</style>\n"
   ]
  },
  {
   "cell_type": "markdown",
   "metadata": {},
   "source": [
    "3. Modificador (Modifier)\n",
    "   Sintaxis: <code><component|element>--<modifier-name¬></code>\n",
    "\n",
    "Los modificadores son todos aquellas clases que modifican o agregan estilo a un bloque o elemento. La clase CSS se forma como el nombre del bloque o elemento más dos guiones.\n",
    "\n",
    "Por ejemplo, en determinados contextos, es posible que deseemos cambiar el color de una <code>.card.</code>\n"
   ]
  },
  {
   "cell_type": "code",
   "execution_count": null,
   "metadata": {
    "vscode": {
     "languageId": "html"
    }
   },
   "outputs": [],
   "source": [
    "<style>\n",
    "  .card--dark {\n",
    "    background-color: #111;\n",
    "  }\n",
    "</style>\n",
    "\n",
    "<div class=\"card\">\n",
    "  <div class=\"card__title card--dark\">Titulo principal</div>\n",
    "</div>\n"
   ]
  },
  {
   "cell_type": "markdown",
   "metadata": {},
   "source": [
    "Tanto los elementos como los modificadores tienen un carácter que los identifica <code>(\\_ o -)</code>, y este carácter se repite dos veces. Esto es para diferenciar el uso de estos caracteres como una utilidad semántica en lugar de un separador de nombre común. Por lo tanto, es perfectamente aceptable usar cualquiera de estas dos opciones:\n"
   ]
  },
  {
   "cell_type": "code",
   "execution_count": null,
   "metadata": {
    "vscode": {
     "languageId": "html"
    }
   },
   "outputs": [],
   "source": [
    "<style>\n",
    "  .card__sub-title {\n",
    "    color: #111;\n",
    "  }\n",
    "  .card__sub_title {\n",
    "    color: #111;\n",
    "  }\n",
    "</style>\n",
    "\n",
    "<div class=\"card card--dark\">\n",
    "  <h2 class=\"card__title\">Titulo principal</h2>\n",
    "  <h3 class=\"card__sub-title\">SubTitulo</h3>\n",
    "</div>\n"
   ]
  },
  {
   "cell_type": "markdown",
   "metadata": {},
   "source": [
    "<hr>\n",
    "<h3 style=\"color: yellow\"><b>SUIT CSS</b> | Frameworks (ReactJS, Angular, etc)</h3>\n",
    "Es una metodología que parte de la funcionalidad, utilidades y herramientas. Es decir que los nombres se basan como en color, centrar, redondear, etc. Se recomienda utilizar cuando se emplean componentes o utilidades (ReactJS)\n",
    "\n",
    "Las utilidades son recursos de \"bajo nivel estructural\" que se pueden aplicar directamente a cualquier elemento dentro de un componente. En esencia, son modificadores globales.\n",
    "(como cuando utilizamos las clases <code>pa => position: absolute, dflex=>display:flex .centrar=>display:grid; place-items:center</code>, etc)\n",
    "\n",
    "Para corregir la nomenclatura que veniamos utilizando deberíamos corregir algunas cosas:\n",
    "\n",
    "<table style=\"text-align:center, width: 80%; margin:auto\">\n",
    "<thead><tr><td></td> <td>Carácter</td> <td>Nomenclatura</td> <td>Sintaxis</td> </tr></thead>\n",
    "<tr><td>Utilidad</td><td>u-</td><td>normal</td><td>u-propiedad</td></tr>\n",
    "<tr><td>Namespace</td><td>-</td><td>normal</td><td>body-Header</td></tr>\n",
    "<tr><td>Componente</td><td></td><td>PascalCase</td><td>Header</td></tr>\n",
    "<tr><td>Elemento (descendiente)</td><td>-(después)</td><td>lowerCamelCase</td><td>Header-h1</td></tr>\n",
    "<tr><td>Modificador</td><td>--</td><td>lowerCamelCase</td><td>Header-h1--negro_bg</td></tr>\n",
    "<tr><td>Estado de un Componente</td><td>.</td><td>lowerCamelCase</td><td>Header-h1.isactive</td></tr>\n",
    "</table>\n"
   ]
  },
  {
   "cell_type": "code",
   "execution_count": null,
   "metadata": {
    "vscode": {
     "languageId": "html"
    }
   },
   "outputs": [],
   "source": [
    "<header class=\"Header\">\n",
    "  <h1 class=\"Header-logo\"></h1>\n",
    "  <ul class=\"Header-menu\">\n",
    "    <li class=\"Header-li\"></li>\n",
    "    <li class=\"Header-li Header-li.active\"></li>\n",
    "    <li class=\"Header-li\"></li>\n",
    "  </ul>\n",
    "</header>\n"
   ]
  },
  {
   "cell_type": "markdown",
   "metadata": {},
   "source": [
    "<hr>\n",
    "<h3 style=\"color: yellow\"><b>CUBE CSS</b> | Web y Apps</h3>\n",
    "Ésta metodología parte del concepto de pensar en propiedades y extender el CSS más que en bloque o estructura.\n",
    "En gran parte está pensada para usar con LOGICAL PROPERTIES aunque están en WORKING DRAFT, así que aún no debemos usarlas.\n",
    "Pero podemos usar esta metodologia con las propiedades actuales.\n",
    "\n",
    "<H4>La organización de las clases son:</h4>\n",
    "<li>TOKENS/UTILIDADES: una clase para cada propiedad CSS</li>\n",
    "<li>BLOQUES: una clase para cada tipo de bloque.</li>\n",
    "\n",
    "y con el atributo <code>data-\\*</code> añadimos las\n",
    "\n",
    "<li>Excepciones: Relacionados con el estado del bloque</li>\n",
    "<br>\n",
    "Al estar basado en BEM tiene varias características:\n",
    "<li>Sólo usamos clases</li>\n",
    "<li>Nombres de las clases se escriben kebab-case</li>\n",
    "<li>En HTML las clases se separan con [ ] ó |</li>\n",
    "<li>Las clases deben de escribirse en este orden: <br><code>bloqueContenedora | bloqueElemento | utilidades</code></li>\n"
   ]
  },
  {
   "cell_type": "code",
   "execution_count": null,
   "metadata": {
    "vscode": {
     "languageId": "html"
    }
   },
   "outputs": [],
   "source": [
    "<div\n",
    "  class=\"contenedor | bloqueElemento | color-base\"\n",
    "  data-state=\"inactivo\"\n",
    "></div>\n",
    "<div class=\"resto | item-resto | color-base\" data-state=\"inactivo\"></div>\n"
   ]
  },
  {
   "cell_type": "markdown",
   "metadata": {},
   "source": [
    "CUBE CSS tiene la ventaja de ser fácilmente escalable y la desventaja de que las clases queden muy extensas gracias a los separadores | ó [ ]\n"
   ]
  },
  {
   "cell_type": "code",
   "execution_count": null,
   "metadata": {
    "vscode": {
     "languageId": "html"
    }
   },
   "outputs": [],
   "source": [
    "<article class=\"item-resto\">\n",
    "  <div class=\"[ item-resto__content ] [ flow ]\">\n",
    "    <!-- el contenido va a tener auto-flow ahora -->\n",
    "  </div>\n",
    "</article>\n",
    "\n",
    "<style>\n",
    "  .flow {\n",
    "    margin-top: var(--gap, 1em);\n",
    "  }\n",
    "  .item-resto__content {\n",
    "    --gap: 1.4rem;\n",
    "  }\n",
    "</style>\n"
   ]
  },
  {
   "cell_type": "markdown",
   "metadata": {},
   "source": []
  },
  {
   "cell_type": "markdown",
   "metadata": {},
   "source": []
  }
 ],
 "metadata": {
  "language_info": {
   "name": "python"
  }
 },
 "nbformat": 4,
 "nbformat_minor": 2
}
